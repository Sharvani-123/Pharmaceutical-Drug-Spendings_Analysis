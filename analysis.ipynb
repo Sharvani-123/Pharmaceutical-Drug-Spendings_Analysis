{
 "cells": [
  {
   "cell_type": "markdown",
   "metadata": {},
   "source": [
    "# Pharmaceutical Drug Spendings Analysis"
   ]
  },
  {
   "cell_type": "markdown",
   "metadata": {},
   "source": [
    "## Problem Statement\n",
    "This project aims to analyze pharmaceutical drug spending trends across different countries over time. \n",
    "The dataset contains information about healthcare expenditures as a percentage of GDP, per capita spending in USD, and total spending in millions for various countries. \n",
    "The goal is to identify trends, correlations, and insights to better understand global drug spending patterns."
   ]
  },
  {
   "cell_type": "markdown",
   "metadata": {},
   "source": [
    "##  Objectives\n",
    "1. Analyze the trends of healthcare expenditure over time.\n",
    "2. Compare healthcare spending between different countries.\n",
    "3. Identify the correlation between GDP and healthcare spending.\n",
    "4. Visualize top spending countries over the years.\n",
    "5. Draw meaningful insights from the data to support policy recommendations."
   ]
  },
  {
   "cell_type": "markdown",
   "metadata": {},
   "source": [
    "### 1) Importing relevant libraries"
   ]
  },
  {
   "cell_type": "code",
   "execution_count": 1,
   "metadata": {},
   "outputs": [],
   "source": [
    "import numpy as np\n",
    "import pandas as pd\n",
    "import matplotlib.pyplot as plt\n",
    "import seaborn as sns"
   ]
  },
  {
   "cell_type": "markdown",
   "metadata": {},
   "source": [
    "###  2) Data Cleaning & Preprocessing\n"
   ]
  },
  {
   "cell_type": "code",
   "execution_count": null,
   "metadata": {},
   "outputs": [
    {
     "data": {
      "text/html": [
       "<div>\n",
       "<style scoped>\n",
       "    .dataframe tbody tr th:only-of-type {\n",
       "        vertical-align: middle;\n",
       "    }\n",
       "\n",
       "    .dataframe tbody tr th {\n",
       "        vertical-align: top;\n",
       "    }\n",
       "\n",
       "    .dataframe thead th {\n",
       "        text-align: right;\n",
       "    }\n",
       "</style>\n",
       "<table border=\"1\" class=\"dataframe\">\n",
       "  <thead>\n",
       "    <tr style=\"text-align: right;\">\n",
       "      <th></th>\n",
       "      <th>LOCATION</th>\n",
       "      <th>TIME</th>\n",
       "      <th>PC_HEALTHXP</th>\n",
       "      <th>PC_GDP</th>\n",
       "      <th>USD_CAP</th>\n",
       "      <th>TOTAL_SPEND</th>\n",
       "    </tr>\n",
       "  </thead>\n",
       "  <tbody>\n",
       "    <tr>\n",
       "      <th>0</th>\n",
       "      <td>AUS</td>\n",
       "      <td>1971</td>\n",
       "      <td>15.992</td>\n",
       "      <td>0.726</td>\n",
       "      <td>33.990</td>\n",
       "      <td>439.73</td>\n",
       "    </tr>\n",
       "    <tr>\n",
       "      <th>1</th>\n",
       "      <td>AUS</td>\n",
       "      <td>1972</td>\n",
       "      <td>15.091</td>\n",
       "      <td>0.685</td>\n",
       "      <td>34.184</td>\n",
       "      <td>450.44</td>\n",
       "    </tr>\n",
       "    <tr>\n",
       "      <th>2</th>\n",
       "      <td>AUS</td>\n",
       "      <td>1973</td>\n",
       "      <td>15.117</td>\n",
       "      <td>0.681</td>\n",
       "      <td>37.956</td>\n",
       "      <td>507.85</td>\n",
       "    </tr>\n",
       "    <tr>\n",
       "      <th>3</th>\n",
       "      <td>AUS</td>\n",
       "      <td>1974</td>\n",
       "      <td>14.771</td>\n",
       "      <td>0.754</td>\n",
       "      <td>45.338</td>\n",
       "      <td>622.17</td>\n",
       "    </tr>\n",
       "    <tr>\n",
       "      <th>4</th>\n",
       "      <td>AUS</td>\n",
       "      <td>1975</td>\n",
       "      <td>11.849</td>\n",
       "      <td>0.682</td>\n",
       "      <td>44.363</td>\n",
       "      <td>616.34</td>\n",
       "    </tr>\n",
       "  </tbody>\n",
       "</table>\n",
       "</div>"
      ],
      "text/plain": [
       "  LOCATION  TIME  PC_HEALTHXP  PC_GDP  USD_CAP  TOTAL_SPEND\n",
       "0      AUS  1971       15.992   0.726   33.990       439.73\n",
       "1      AUS  1972       15.091   0.685   34.184       450.44\n",
       "2      AUS  1973       15.117   0.681   37.956       507.85\n",
       "3      AUS  1974       14.771   0.754   45.338       622.17\n",
       "4      AUS  1975       11.849   0.682   44.363       616.34"
      ]
     },
     "execution_count": 2,
     "metadata": {},
     "output_type": "execute_result"
    }
   ],
   "source": [
    "# reading the csv data\n",
    "data= pd.read_csv('pharma_investment.csv')\n",
    "data.head()"
   ]
  },
  {
   "cell_type": "code",
   "execution_count": 13,
   "metadata": {},
   "outputs": [
    {
     "name": "stdout",
     "output_type": "stream",
     "text": [
      "(1341, 6)\n",
      "              TIME  PC_HEALTHXP       PC_GDP      USD_CAP    TOTAL_SPEND\n",
      "count  1341.000000  1341.000000  1341.000000  1341.000000    1341.000000\n",
      "mean   2001.134228    16.632877     1.215524   338.278398   14439.322088\n",
      "std      14.093659     6.613320     0.479568   226.158326   43259.358895\n",
      "min    1970.000000     5.545000     0.207000     3.628000       5.810000\n",
      "25%    1990.000000    11.849000     0.802000   144.592000     756.280000\n",
      "50%    2004.000000    15.238000     1.187000   317.795000    2786.190000\n",
      "75%    2013.000000    20.580000     1.524000   496.858000    8794.360000\n",
      "max    2022.000000    40.239000     2.870000  1432.309000  475596.740000\n",
      "<class 'pandas.core.frame.DataFrame'>\n",
      "RangeIndex: 1341 entries, 0 to 1340\n",
      "Data columns (total 6 columns):\n",
      " #   Column       Non-Null Count  Dtype  \n",
      "---  ------       --------------  -----  \n",
      " 0   LOCATION     1341 non-null   object \n",
      " 1   TIME         1341 non-null   int64  \n",
      " 2   PC_HEALTHXP  1341 non-null   float64\n",
      " 3   PC_GDP       1341 non-null   float64\n",
      " 4   USD_CAP      1341 non-null   float64\n",
      " 5   TOTAL_SPEND  1341 non-null   float64\n",
      "dtypes: float64(4), int64(1), object(1)\n",
      "memory usage: 63.0+ KB\n",
      "None\n"
     ]
    }
   ],
   "source": [
    "\n",
    "print(data.shape)\n",
    "print(data.describe())\n",
    "print(data.info())"
   ]
  },
  {
   "cell_type": "markdown",
   "metadata": {},
   "source": []
  },
  {
   "cell_type": "code",
   "execution_count": 10,
   "metadata": {},
   "outputs": [
    {
     "name": "stdout",
     "output_type": "stream",
     "text": [
      "LOCATION       0\n",
      "TIME           0\n",
      "PC_HEALTHXP    0\n",
      "PC_GDP         0\n",
      "USD_CAP        0\n",
      "TOTAL_SPEND    0\n",
      "dtype: int64\n",
      "LOCATION       0\n",
      "TIME           0\n",
      "PC_HEALTHXP    0\n",
      "PC_GDP         0\n",
      "USD_CAP        0\n",
      "TOTAL_SPEND    0\n",
      "dtype: int64\n"
     ]
    }
   ],
   "source": [
    "# checking if there exists any null values in the dataset\n",
    "print(data.isnull().sum())\n",
    "print(data.isna().sum())\n"
   ]
  },
  {
   "cell_type": "code",
   "execution_count": 11,
   "metadata": {},
   "outputs": [
    {
     "name": "stdout",
     "output_type": "stream",
     "text": [
      "0\n"
     ]
    }
   ],
   "source": [
    "# checking for duplicate values in the dataset\n",
    "print(data.duplicated().sum())"
   ]
  },
  {
   "cell_type": "code",
   "execution_count": null,
   "metadata": {},
   "outputs": [],
   "source": []
  }
 ],
 "metadata": {
  "kernelspec": {
   "display_name": "Python 3",
   "language": "python",
   "name": "python3"
  },
  "language_info": {
   "codemirror_mode": {
    "name": "ipython",
    "version": 3
   },
   "file_extension": ".py",
   "mimetype": "text/x-python",
   "name": "python",
   "nbconvert_exporter": "python",
   "pygments_lexer": "ipython3",
   "version": "3.11.4"
  }
 },
 "nbformat": 4,
 "nbformat_minor": 2
}
